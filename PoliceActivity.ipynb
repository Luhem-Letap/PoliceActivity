{
 "cells": [
  {
   "cell_type": "markdown",
   "metadata": {},
   "source": [
    "## IMPORTING RELEVANT MODULES\n"
   ]
  },
  {
   "cell_type": "code",
   "execution_count": 2,
   "metadata": {},
   "outputs": [],
   "source": [
    "import pandas as pd\n",
    "import matplotlib.pyplot as plt"
   ]
  },
  {
   "cell_type": "markdown",
   "metadata": {},
   "source": [
    "## LOADING THE DATA\n"
   ]
  },
  {
   "cell_type": "code",
   "execution_count": 3,
   "metadata": {},
   "outputs": [
    {
     "name": "stdout",
     "output_type": "stream",
     "text": [
      "<class 'pandas.core.frame.DataFrame'>\n",
      "RangeIndex: 91741 entries, 0 to 91740\n",
      "Data columns (total 15 columns):\n",
      "state                 91741 non-null object\n",
      "stop_date             91741 non-null object\n",
      "stop_time             91741 non-null object\n",
      "county_name           0 non-null float64\n",
      "driver_gender         86536 non-null object\n",
      "driver_race           86539 non-null object\n",
      "violation_raw         86539 non-null object\n",
      "violation             86539 non-null object\n",
      "search_conducted      91741 non-null bool\n",
      "search_type           3307 non-null object\n",
      "stop_outcome          86539 non-null object\n",
      "is_arrested           86539 non-null object\n",
      "stop_duration         86539 non-null object\n",
      "drugs_related_stop    91741 non-null bool\n",
      "district              91741 non-null object\n",
      "dtypes: bool(2), float64(1), object(12)\n",
      "memory usage: 9.3+ MB\n",
      "None\n"
     ]
    }
   ],
   "source": [
    "ri = pd.read_csv(r\"C:\\Users\\mpmeh\\Downloads\\police.csv\") # ri stands for 'rhode island'\n",
    "print(ri.info())"
   ]
  },
  {
   "cell_type": "markdown",
   "metadata": {},
   "source": [
    "## CLEANING THE DATA"
   ]
  },
  {
   "cell_type": "code",
   "execution_count": 4,
   "metadata": {},
   "outputs": [],
   "source": [
    "# as we can see 'county_name' column is null all the way and 'search_type' has very few entries respective to\n",
    "# the whole dataframe, also the state coulmn will also be dropped because it's Rhode Island only\n",
    "# thus we are going to drop the whole columns\n",
    "ri.drop(['county_name','search_type','state'],axis='columns',inplace=True)\n",
    "#dropping all the rows that donot contain gender as our main focus is on tracking gender based activity\n",
    "ri.dropna(subset=['driver_gender'],inplace=True)\n",
    "\n",
    "\n"
   ]
  },
  {
   "cell_type": "markdown",
   "metadata": {},
   "source": [
    "## CHANGING THE DATATYPES"
   ]
  },
  {
   "cell_type": "code",
   "execution_count": 5,
   "metadata": {},
   "outputs": [],
   "source": [
    "#combinig the date and time column for easy analysis\n",
    "combined = ri.stop_date.str.cat(ri.stop_time,sep=' ')\n",
    "#converting the combined column to datetime object and adding it to the dataframe\n",
    "ri['date_and_time'] = pd.to_datetime(combined)\n",
    "# setting the index of the dataframe to 'date_and_time' for easy analysis\n",
    "ri.set_index('date_and_time',inplace=True)\n"
   ]
  },
  {
   "cell_type": "markdown",
   "metadata": {},
   "source": [
    "## VIOLATIONS OF EACH GENDER"
   ]
  },
  {
   "cell_type": "code",
   "execution_count": 6,
   "metadata": {},
   "outputs": [
    {
     "name": "stdout",
     "output_type": "stream",
     "text": [
      "                       Female      Male\n",
      "Equipment            0.105199  0.134158\n",
      "Moving violation     0.138218  0.206144\n",
      "Other                0.029738  0.058985\n",
      "Registration/plates  0.044418  0.042175\n",
      "Seat belt            0.024312  0.036296\n"
     ]
    }
   ],
   "source": [
    "# creating a separate database for male and female\n",
    "female = ri[ri.driver_gender == 'F']\n",
    "male = ri[ri.driver_gender == 'M']\n",
    "# creating a separate dataframe for violation proportion of each gender\n",
    "F_vio = female.violation.value_counts(normalize=True)\n",
    "M_vio = male.violation.value_counts(normalize=True)\n",
    "viol = pd.DataFrame({'Female':F_vio,'Male':M_vio})\n",
    "print(viol.head())\n",
    "# plotting the graph\n",
    "\n",
    "#viol.plot(kind='bar',subplots = True,xaxis)   \n",
    "#plt.xlabel(viol.index)                              # the plot is wrong,make some changes\n",
    "#plt.show()"
   ]
  },
  {
   "cell_type": "markdown",
   "metadata": {},
   "source": [
    "## DOES GENDER EFFECT CITATION PROPORTION ON SPEEDING ?\n"
   ]
  },
  {
   "cell_type": "code",
   "execution_count": 7,
   "metadata": {},
   "outputs": [
    {
     "name": "stdout",
     "output_type": "stream",
     "text": [
      "Citation            0.952192\n",
      "Warning             0.040074\n",
      "Arrest Driver       0.005752\n",
      "N/D                 0.000959\n",
      "Arrest Passenger    0.000639\n",
      "No Action           0.000383\n",
      "Name: stop_outcome, dtype: float64\n",
      "Citation            0.944595\n",
      "Warning             0.036184\n",
      "Arrest Driver       0.015895\n",
      "Arrest Passenger    0.001281\n",
      "No Action           0.001068\n",
      "N/D                 0.000976\n",
      "Name: stop_outcome, dtype: float64\n",
      "\n",
      "Since both around 95% got citation, we can say that gender is not related to citation\n"
     ]
    }
   ],
   "source": [
    "F_speed = female[female.violation=='Speeding'].stop_outcome.value_counts(normalize=True)\n",
    "M_speed = male[male.violation=='Speeding'].stop_outcome.value_counts(normalize=True)\n",
    "print(F_speed)\n",
    "print(M_speed)\n",
    "print(\"\\nSince both around 95% got citation, we can say that gender is not related to citation\")"
   ]
  },
  {
   "cell_type": "markdown",
   "metadata": {},
   "source": [
    "## DOES GENDER EFFECT SEARCH CONDUCTED ?\n"
   ]
  },
  {
   "cell_type": "code",
   "execution_count": 8,
   "metadata": {},
   "outputs": [
    {
     "name": "stdout",
     "output_type": "stream",
     "text": [
      "0.0382153092354627\n",
      "0.019180617481282074\n",
      "0.04542557598546892\n",
      "violation            driver_gender\n",
      "Equipment            F                0.039984\n",
      "                     M                0.071496\n",
      "Moving violation     F                0.039257\n",
      "                     M                0.061524\n",
      "Other                F                0.041018\n",
      "                     M                0.046191\n",
      "Registration/plates  F                0.054924\n",
      "                     M                0.108802\n",
      "Seat belt            F                0.017301\n",
      "                     M                0.035119\n",
      "Speeding             F                0.008309\n",
      "                     M                0.027885\n",
      "Name: search_conducted, dtype: float64\n",
      "\n",
      " We can see that that the search rate is almost double in males as compared to females\n"
     ]
    }
   ],
   "source": [
    "# calculating percentage of people's vehicle being searched\n",
    "print(ri.search_conducted.mean())\n",
    "# calculating percentage of female driver being searched\n",
    "print(ri[ri.driver_gender=='F'].search_conducted.mean())\n",
    "# calculating percentage of male driver being searched\n",
    "print(ri[ri.driver_gender=='M'].search_conducted.mean())\n",
    "# grouping by to ascertain the data\n",
    "print(ri.groupby(['violation','driver_gender']).search_conducted.mean())\n",
    "print('\\n','We can see that that the search rate is almost double in males as compared to females')"
   ]
  },
  {
   "cell_type": "markdown",
   "metadata": {},
   "source": [
    "## DOES GENDER AFFECT ARREST RATE ?"
   ]
  },
  {
   "cell_type": "code",
   "execution_count": 18,
   "metadata": {},
   "outputs": [
    {
     "name": "stdout",
     "output_type": "stream",
     "text": [
      "0.0355690117407784\n",
      "               search_conducted  drugs_related_stop\n",
      "date_and_time                                      \n",
      "0                      0.074036            0.020738\n",
      "1                      0.072367            0.019579\n",
      "2                      0.063036            0.019396\n",
      "3                      0.074740            0.019868\n",
      "4                      0.036000            0.020000\n",
      "5                      0.026738            0.010695\n",
      "6                      0.013171            0.001927\n",
      "7                      0.012803            0.002743\n",
      "8                      0.020437            0.004249\n",
      "9                      0.024428            0.005601\n",
      "10                     0.029482            0.008182\n",
      "11                     0.027320            0.007881\n",
      "12                     0.031358            0.005466\n",
      "13                     0.033414            0.008793\n",
      "14                     0.031543            0.008449\n",
      "15                     0.034041            0.007565\n",
      "16                     0.039515            0.006774\n",
      "17                     0.037524            0.010058\n",
      "18                     0.038682            0.010029\n",
      "19                     0.028980            0.007347\n",
      "20                     0.047317            0.012067\n",
      "21                     0.064541            0.012908\n",
      "22                     0.053650            0.017590\n",
      "23                     0.053757            0.015607\n"
     ]
    },
    {
     "data": {
      "text/plain": [
       "Text(0.5, 1.0, 'Arrest rate by hour')"
      ]
     },
     "execution_count": 18,
     "metadata": {},
     "output_type": "execute_result"
    },
    {
     "data": {
      "image/png": "[encoded data removed]",
      "text/plain": [
       "<Figure size 432x288 with 1 Axes>"
      ]
     },
     "metadata": {
      "needs_background": "light"
     },
     "output_type": "display_data"
    }
   ],
   "source": [
    "# caculating overall arrest rate\n",
    "print(ri.is_arrested.mean())\n",
    "# calculating hourly arrest rate\n",
    "print(ri.groupby(ri.index.hour).mean())\n",
    "hourly_arrest_rate = ri.groupby(ri.index.hour).mean()\n",
    "hourly_arrest_rate.plot()\n",
    "plt.xlabel('Hour')\n",
    "plt.ylabel('Arrest rate')\n",
    "plt.title('Arrest rate by hour')"
   ]
  },
  {
   "cell_type": "markdown",
   "metadata": {},
   "source": [
    "## DOES RACE AFFECT THE GENDER ?\n"
   ]
  },
  {
   "cell_type": "code",
   "execution_count": 20,
   "metadata": {},
   "outputs": [
    {
     "data": {
      "image/png": "[encoded data removed]",
      "text/plain": [
       "<Figure size 432x288 with 1 Axes>"
      ]
     },
     "metadata": {
      "needs_background": "light"
     },
     "output_type": "display_data"
    },
    {
     "name": "stdout",
     "output_type": "stream",
     "text": [
      "Clearly in every race the male gender is affected more!\n"
     ]
    }
   ],
   "source": [
    "all_df = pd.crosstab(ri.driver_race,ri.driver_gender)\n",
    "all_df.plot(kind='bar',stacked=True)\n",
    "plt.show()\n",
    "print('Clearly in every race the male gender is affected more!')"
   ]
  },
  {
   "cell_type": "code",
   "execution_count": null,
   "metadata": {},
   "outputs": [],
   "source": []
  }
 ],
 "metadata": {
  "kernelspec": {
   "display_name": "Python 3",
   "language": "python",
   "name": "python3"
  },
  "language_info": {
   "codemirror_mode": {
    "name": "ipython",
    "version": 3
   },
   "file_extension": ".py",
   "mimetype": "text/x-python",
   "name": "python",
   "nbconvert_exporter": "python",
   "pygments_lexer": "ipython3",
   "version": "3.7.1"
  }
 },
 "nbformat": 4,
 "nbformat_minor": 2
}
